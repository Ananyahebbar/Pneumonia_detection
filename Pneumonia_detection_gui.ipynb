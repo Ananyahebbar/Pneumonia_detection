{
 "cells": [
  {
   "cell_type": "code",
   "execution_count": 11,
   "id": "f52e10ba",
   "metadata": {},
   "outputs": [],
   "source": [
    "import numpy as np\n",
    "import matplotlib.pyplot as plt\n",
    "import cv2\n",
    "import os\n",
    "import tensorflow as tf\n",
    "from keras.models import load_model\n",
    "from tkinter import *\n",
    "from tkinter import filedialog\n",
    "import PIL.Image\n",
    "import PIL.ImageTk"
   ]
  },
  {
   "cell_type": "code",
   "execution_count": 12,
   "id": "30d4c414",
   "metadata": {},
   "outputs": [],
   "source": [
    "loaded_model = load_model(\"C:\\\\Users\\\\hebba\\\\Downloads\\\\trained_pneumonia_model.h5\")"
   ]
  },
  {
   "cell_type": "code",
   "execution_count": 13,
   "id": "f62364f5",
   "metadata": {},
   "outputs": [],
   "source": [
    "from tkinter import *\n",
    "from tkinter import ttk\n",
    "root = Tk()"
   ]
  },
  {
   "cell_type": "code",
   "execution_count": 14,
   "id": "ba963400",
   "metadata": {},
   "outputs": [],
   "source": [
    "root.title(\"Pneumonia Detection\")\n",
    "root.state('zoomed')\n",
    "root.configure(bg='#D3D3D3')\n",
    "root.resizable(width = True, height = True) \n",
    "value = StringVar()\n",
    "panel = Label(root)"
   ]
  },
  {
   "cell_type": "code",
   "execution_count": 15,
   "id": "684c3263",
   "metadata": {},
   "outputs": [],
   "source": [
    "def detect(filename):\n",
    "    img = plt.imread(filename)\n",
    "    img = cv2.resize(img, (150,150))\n",
    "    img = np.dstack([img, img, img])\n",
    "    img = img.astype('float32')/255\n",
    "    img = np.expand_dims(img, axis=0)\n",
    "    pred = np.round(loaded_model.predict(img)[0])\n",
    "    if(pred == 1):\n",
    "        value.set(\"PNEUMONIA!\")\n",
    "    else:\n",
    "        value.set(\"NORMAL\")"
   ]
  },
  {
   "cell_type": "code",
   "execution_count": 16,
   "id": "346a7aca",
   "metadata": {},
   "outputs": [],
   "source": [
    "\n",
    "def ClickAction(event=None):\n",
    "    filename = filedialog.askopenfilename()\n",
    "    img = PIL.Image.open(filename)\n",
    "    img = img.resize((250,250))\n",
    "    img = PIL.ImageTk.PhotoImage(img)\n",
    "    global panel\n",
    "    panel = Label(root, image = img)\n",
    "    panel.image = img\n",
    "    panel = panel.place(relx=0.435,rely=0.3)\n",
    "    detect(filename)"
   ]
  },
  {
   "cell_type": "code",
   "execution_count": null,
   "id": "7a663a04",
   "metadata": {},
   "outputs": [
    {
     "name": "stderr",
     "output_type": "stream",
     "text": [
      "Exception in Tkinter callback\n",
      "Traceback (most recent call last):\n",
      "  File \"C:\\Users\\hebba\\anaconda3\\lib\\tkinter\\__init__.py\", line 1892, in __call__\n",
      "    return self.func(*args)\n",
      "  File \"C:\\Users\\hebba\\AppData\\Local\\Temp\\ipykernel_7508\\1165505838.py\", line 10, in ClickAction\n",
      "    detect(filename)\n",
      "  File \"C:\\Users\\hebba\\AppData\\Local\\Temp\\ipykernel_7508\\2537475808.py\", line 7, in detect\n",
      "    pred = np.round(loaded_model.predict(img)[0])\n",
      "  File \"C:\\Users\\hebba\\anaconda3\\lib\\site-packages\\keras\\utils\\traceback_utils.py\", line 67, in error_handler\n",
      "    raise e.with_traceback(filtered_tb) from None\n",
      "  File \"C:\\Users\\hebba\\AppData\\Local\\Temp\\__autograph_generated_filez84jebq0.py\", line 15, in tf__predict_function\n",
      "    retval_ = ag__.converted_call(ag__.ld(step_function), (ag__.ld(self), ag__.ld(iterator)), None, fscope)\n",
      "ValueError: in user code:\n",
      "\n",
      "    File \"C:\\Users\\hebba\\anaconda3\\lib\\site-packages\\keras\\engine\\training.py\", line 1845, in predict_function  *\n",
      "        return step_function(self, iterator)\n",
      "    File \"C:\\Users\\hebba\\anaconda3\\lib\\site-packages\\keras\\engine\\training.py\", line 1834, in step_function  **\n",
      "        outputs = model.distribute_strategy.run(run_step, args=(data,))\n",
      "    File \"C:\\Users\\hebba\\anaconda3\\lib\\site-packages\\keras\\engine\\training.py\", line 1823, in run_step  **\n",
      "        outputs = model.predict_step(data)\n",
      "    File \"C:\\Users\\hebba\\anaconda3\\lib\\site-packages\\keras\\engine\\training.py\", line 1791, in predict_step\n",
      "        return self(x, training=False)\n",
      "    File \"C:\\Users\\hebba\\anaconda3\\lib\\site-packages\\keras\\utils\\traceback_utils.py\", line 67, in error_handler\n",
      "        raise e.with_traceback(filtered_tb) from None\n",
      "    File \"C:\\Users\\hebba\\anaconda3\\lib\\site-packages\\keras\\engine\\input_spec.py\", line 264, in assert_input_compatibility\n",
      "        raise ValueError(f'Input {input_index} of layer \"{layer_name}\" is '\n",
      "\n",
      "    ValueError: Input 0 of layer \"sequential\" is incompatible with the layer: expected shape=(None, 150, 150, 3), found shape=(None, 150, 150, 9)\n",
      "\n"
     ]
    }
   ],
   "source": [
    "button = Button(root, text='CHOOSE FILE', font=(None, 18), activeforeground='red', bd=20, bg='cyan', relief=RAISED, height=3, width=20, command=ClickAction)\n",
    "button = button.place(relx=0.40, rely=0.05)\n",
    "result = Label(root, textvariable=value, font=(None, 20))\n",
    "result = result.place(relx=0.465,rely=0.7)\n",
    "root.mainloop()"
   ]
  },
  {
   "cell_type": "code",
   "execution_count": null,
   "id": "7d539906",
   "metadata": {},
   "outputs": [],
   "source": []
  }
 ],
 "metadata": {
  "kernelspec": {
   "display_name": "Python 3 (ipykernel)",
   "language": "python",
   "name": "python3"
  },
  "language_info": {
   "codemirror_mode": {
    "name": "ipython",
    "version": 3
   },
   "file_extension": ".py",
   "mimetype": "text/x-python",
   "name": "python",
   "nbconvert_exporter": "python",
   "pygments_lexer": "ipython3",
   "version": "3.9.12"
  }
 },
 "nbformat": 4,
 "nbformat_minor": 5
}
